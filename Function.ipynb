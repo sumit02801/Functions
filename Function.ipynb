{
  "nbformat": 4,
  "nbformat_minor": 0,
  "metadata": {
    "colab": {
      "provenance": []
    },
    "kernelspec": {
      "name": "python3",
      "display_name": "Python 3"
    },
    "language_info": {
      "name": "python"
    }
  },
  "cells": [
    {
      "cell_type": "code",
      "execution_count": null,
      "metadata": {
        "colab": {
          "base_uri": "https://localhost:8080/"
        },
        "id": "1N1mvg_GfdkL",
        "outputId": "78e6c656-0f0e-41d3-999b-5543802010cc"
      },
      "outputs": [
        {
          "output_type": "stream",
          "name": "stdout",
          "text": [
            "12\n"
          ]
        }
      ],
      "source": [
        "# Write a Python function that takes a list of numbers as input and returns the sum of all even numbers in the list.\n",
        "\n",
        "def sum_of_even_number (p):\n",
        "  l = []\n",
        "  for i in p:\n",
        "    if i % 2 == 0:\n",
        "      l.append(i)\n",
        "  return sum(l)\n",
        "\n",
        "print(sum_of_even_number([1,2,3,4,5,6]))"
      ]
    },
    {
      "cell_type": "code",
      "source": [
        "#  Create a Python function that accepts a string and returns the reverse of that string\n",
        "\n",
        "def reverse_str (p):\n",
        "  return(p[::-1])\n",
        "\n",
        "print(reverse_str(\"sumit\"))"
      ],
      "metadata": {
        "colab": {
          "base_uri": "https://localhost:8080/"
        },
        "id": "Kmf_haPcgZZI",
        "outputId": "b8f62be7-907a-4e82-f272-f6abdf9753d8"
      },
      "execution_count": null,
      "outputs": [
        {
          "output_type": "stream",
          "name": "stdout",
          "text": [
            "timus\n"
          ]
        }
      ]
    },
    {
      "cell_type": "code",
      "source": [
        "#  Implement a Python function that takes a list of integers and returns a new list containing the squares of each number.\n",
        "\n",
        "def sqr_list (p):\n",
        "  l = []\n",
        "  for i in p:\n",
        "    l.append(i**2)\n",
        "  return l\n",
        "\n",
        "print(sqr_list([1,2,3]))"
      ],
      "metadata": {
        "colab": {
          "base_uri": "https://localhost:8080/"
        },
        "id": "UTfMoI1JiIpN",
        "outputId": "8f379525-b3fa-443b-ce77-65b1c97fbe2c"
      },
      "execution_count": null,
      "outputs": [
        {
          "output_type": "stream",
          "name": "stdout",
          "text": [
            "[1, 4, 9]\n"
          ]
        }
      ]
    },
    {
      "cell_type": "code",
      "source": [
        "# Write a Python function that checks if a given number is prime or not from 1 to 200\n",
        "\n",
        "def is_prime (n):\n",
        "  if n <= 1:\n",
        "    return False\n",
        "  for i in range(2,int(n**0.5)+1):\n",
        "    if n%i == 0:\n",
        "      return False\n",
        "  return True\n",
        "\n",
        "def prime_upto_200 ():\n",
        "  for i in range(1, 201):\n",
        "    if is_prime(i):\n",
        "      print(i, \"Is a prime\")\n",
        "    else:\n",
        "      print(i, \"Is not a prime\")\n",
        "\n",
        "prime_upto_200()"
      ],
      "metadata": {
        "colab": {
          "base_uri": "https://localhost:8080/"
        },
        "id": "PLo0pLpCi46b",
        "outputId": "c8708d5e-5610-49fb-ee37-a6c0912f34a0"
      },
      "execution_count": null,
      "outputs": [
        {
          "output_type": "stream",
          "name": "stdout",
          "text": [
            "1 Is not a prime\n",
            "2 Is a prime\n",
            "3 Is a prime\n",
            "4 Is not a prime\n",
            "5 Is a prime\n",
            "6 Is not a prime\n",
            "7 Is a prime\n",
            "8 Is not a prime\n",
            "9 Is not a prime\n",
            "10 Is not a prime\n",
            "11 Is a prime\n",
            "12 Is not a prime\n",
            "13 Is a prime\n",
            "14 Is not a prime\n",
            "15 Is not a prime\n",
            "16 Is not a prime\n",
            "17 Is a prime\n",
            "18 Is not a prime\n",
            "19 Is a prime\n",
            "20 Is not a prime\n",
            "21 Is not a prime\n",
            "22 Is not a prime\n",
            "23 Is a prime\n",
            "24 Is not a prime\n",
            "25 Is not a prime\n",
            "26 Is not a prime\n",
            "27 Is not a prime\n",
            "28 Is not a prime\n",
            "29 Is a prime\n",
            "30 Is not a prime\n",
            "31 Is a prime\n",
            "32 Is not a prime\n",
            "33 Is not a prime\n",
            "34 Is not a prime\n",
            "35 Is not a prime\n",
            "36 Is not a prime\n",
            "37 Is a prime\n",
            "38 Is not a prime\n",
            "39 Is not a prime\n",
            "40 Is not a prime\n",
            "41 Is a prime\n",
            "42 Is not a prime\n",
            "43 Is a prime\n",
            "44 Is not a prime\n",
            "45 Is not a prime\n",
            "46 Is not a prime\n",
            "47 Is a prime\n",
            "48 Is not a prime\n",
            "49 Is not a prime\n",
            "50 Is not a prime\n",
            "51 Is not a prime\n",
            "52 Is not a prime\n",
            "53 Is a prime\n",
            "54 Is not a prime\n",
            "55 Is not a prime\n",
            "56 Is not a prime\n",
            "57 Is not a prime\n",
            "58 Is not a prime\n",
            "59 Is a prime\n",
            "60 Is not a prime\n",
            "61 Is a prime\n",
            "62 Is not a prime\n",
            "63 Is not a prime\n",
            "64 Is not a prime\n",
            "65 Is not a prime\n",
            "66 Is not a prime\n",
            "67 Is a prime\n",
            "68 Is not a prime\n",
            "69 Is not a prime\n",
            "70 Is not a prime\n",
            "71 Is a prime\n",
            "72 Is not a prime\n",
            "73 Is a prime\n",
            "74 Is not a prime\n",
            "75 Is not a prime\n",
            "76 Is not a prime\n",
            "77 Is not a prime\n",
            "78 Is not a prime\n",
            "79 Is a prime\n",
            "80 Is not a prime\n",
            "81 Is not a prime\n",
            "82 Is not a prime\n",
            "83 Is a prime\n",
            "84 Is not a prime\n",
            "85 Is not a prime\n",
            "86 Is not a prime\n",
            "87 Is not a prime\n",
            "88 Is not a prime\n",
            "89 Is a prime\n",
            "90 Is not a prime\n",
            "91 Is not a prime\n",
            "92 Is not a prime\n",
            "93 Is not a prime\n",
            "94 Is not a prime\n",
            "95 Is not a prime\n",
            "96 Is not a prime\n",
            "97 Is a prime\n",
            "98 Is not a prime\n",
            "99 Is not a prime\n",
            "100 Is not a prime\n",
            "101 Is a prime\n",
            "102 Is not a prime\n",
            "103 Is a prime\n",
            "104 Is not a prime\n",
            "105 Is not a prime\n",
            "106 Is not a prime\n",
            "107 Is a prime\n",
            "108 Is not a prime\n",
            "109 Is a prime\n",
            "110 Is not a prime\n",
            "111 Is not a prime\n",
            "112 Is not a prime\n",
            "113 Is a prime\n",
            "114 Is not a prime\n",
            "115 Is not a prime\n",
            "116 Is not a prime\n",
            "117 Is not a prime\n",
            "118 Is not a prime\n",
            "119 Is not a prime\n",
            "120 Is not a prime\n",
            "121 Is not a prime\n",
            "122 Is not a prime\n",
            "123 Is not a prime\n",
            "124 Is not a prime\n",
            "125 Is not a prime\n",
            "126 Is not a prime\n",
            "127 Is a prime\n",
            "128 Is not a prime\n",
            "129 Is not a prime\n",
            "130 Is not a prime\n",
            "131 Is a prime\n",
            "132 Is not a prime\n",
            "133 Is not a prime\n",
            "134 Is not a prime\n",
            "135 Is not a prime\n",
            "136 Is not a prime\n",
            "137 Is a prime\n",
            "138 Is not a prime\n",
            "139 Is a prime\n",
            "140 Is not a prime\n",
            "141 Is not a prime\n",
            "142 Is not a prime\n",
            "143 Is not a prime\n",
            "144 Is not a prime\n",
            "145 Is not a prime\n",
            "146 Is not a prime\n",
            "147 Is not a prime\n",
            "148 Is not a prime\n",
            "149 Is a prime\n",
            "150 Is not a prime\n",
            "151 Is a prime\n",
            "152 Is not a prime\n",
            "153 Is not a prime\n",
            "154 Is not a prime\n",
            "155 Is not a prime\n",
            "156 Is not a prime\n",
            "157 Is a prime\n",
            "158 Is not a prime\n",
            "159 Is not a prime\n",
            "160 Is not a prime\n",
            "161 Is not a prime\n",
            "162 Is not a prime\n",
            "163 Is a prime\n",
            "164 Is not a prime\n",
            "165 Is not a prime\n",
            "166 Is not a prime\n",
            "167 Is a prime\n",
            "168 Is not a prime\n",
            "169 Is not a prime\n",
            "170 Is not a prime\n",
            "171 Is not a prime\n",
            "172 Is not a prime\n",
            "173 Is a prime\n",
            "174 Is not a prime\n",
            "175 Is not a prime\n",
            "176 Is not a prime\n",
            "177 Is not a prime\n",
            "178 Is not a prime\n",
            "179 Is a prime\n",
            "180 Is not a prime\n",
            "181 Is a prime\n",
            "182 Is not a prime\n",
            "183 Is not a prime\n",
            "184 Is not a prime\n",
            "185 Is not a prime\n",
            "186 Is not a prime\n",
            "187 Is not a prime\n",
            "188 Is not a prime\n",
            "189 Is not a prime\n",
            "190 Is not a prime\n",
            "191 Is a prime\n",
            "192 Is not a prime\n",
            "193 Is a prime\n",
            "194 Is not a prime\n",
            "195 Is not a prime\n",
            "196 Is not a prime\n",
            "197 Is a prime\n",
            "198 Is not a prime\n",
            "199 Is a prime\n",
            "200 Is not a prime\n"
          ]
        }
      ]
    },
    {
      "cell_type": "code",
      "source": [
        "# Create an iterator class in Python that generates the Fibonacci sequence up to a specified number of terms.\n",
        "\n",
        "class fib_iterator:\n",
        "  def __init__(self, n):\n",
        "    self.n=n\n",
        "    self.a, self.b = 0,1\n",
        "    self.count = 0\n",
        "\n",
        "  def __iter__(self):\n",
        "    return self\n",
        "\n",
        "  def __next__(self):\n",
        "    if self.count >= self.n:\n",
        "      raise StopIteration\n",
        "\n",
        "    value = self.a\n",
        "    self.a, self.b = self.b, self.a+self.b\n",
        "    self.count+=1\n",
        "    return value\n",
        "\n",
        "print(list(fib_iterator(5)))"
      ],
      "metadata": {
        "colab": {
          "base_uri": "https://localhost:8080/"
        },
        "id": "DJvzqIcvp-ke",
        "outputId": "40aacd0f-9c4a-4ff4-b4f5-0a62a9dbdb12"
      },
      "execution_count": null,
      "outputs": [
        {
          "output_type": "stream",
          "name": "stdout",
          "text": [
            "[0, 1, 1, 2, 3]\n"
          ]
        }
      ]
    },
    {
      "cell_type": "code",
      "source": [
        "# Write a generator function in Python that yields the powers of 2 up to a given exponent.\n",
        "\n",
        "def power_of_2(a):\n",
        "  for i in range (a+1):\n",
        "    yield 2**i\n",
        "\n",
        "print(list(power_of_2(5)))\n"
      ],
      "metadata": {
        "colab": {
          "base_uri": "https://localhost:8080/"
        },
        "id": "qz9RL7npehsI",
        "outputId": "5a4f86cc-05fd-4b3a-df00-6ef96cc25b20"
      },
      "execution_count": null,
      "outputs": [
        {
          "output_type": "stream",
          "name": "stdout",
          "text": [
            "[1, 2, 4, 8, 16, 32]\n"
          ]
        }
      ]
    },
    {
      "cell_type": "code",
      "source": [
        "#  Implement a generator function that reads a file line by line and yields each line as a string.\n",
        "\n",
        "def read_file_as_string(filename):\n",
        "    with open(filename, 'r', encoding='utf-8') as f:\n",
        "        yield from f\n",
        "\n",
        "print(list(read_file_as_string(\"test_file.txt\")))"
      ],
      "metadata": {
        "colab": {
          "base_uri": "https://localhost:8080/"
        },
        "id": "6E8HJwt1j5r9",
        "outputId": "01f18a75-b9f8-488b-f77e-7c3de1c6d696"
      },
      "execution_count": 21,
      "outputs": [
        {
          "output_type": "stream",
          "name": "stdout",
          "text": [
            "['This is Sumit Kumar, working as a software engineer in HCLTech. I am  working in financial services domain with the Bank of Ireland project.']\n"
          ]
        }
      ]
    },
    {
      "cell_type": "code",
      "source": [
        "# Use a lambda function in Python to sort a list of tuples based on the second element of each tuple.\n",
        "\n",
        "a = [(1,2), (9,11), (7,6)]\n",
        "sorted_data = sorted(a, key = lambda x:x[1])\n",
        "print(sorted_data)"
      ],
      "metadata": {
        "colab": {
          "base_uri": "https://localhost:8080/"
        },
        "id": "gnPaPEcEyyiU",
        "outputId": "cb0563e6-13ed-48a9-e37c-cf5ed22f4758"
      },
      "execution_count": 23,
      "outputs": [
        {
          "output_type": "stream",
          "name": "stdout",
          "text": [
            "[(1, 2), (7, 6), (9, 11)]\n"
          ]
        }
      ]
    },
    {
      "cell_type": "code",
      "source": [
        "#  Write a Python program that uses `map()` to convert a list of temperatures from Celsius to Fahrenheit.\n",
        "\n",
        "celsius_temps = [0, 20, 30, 37, 100]\n",
        "\n",
        "fahrenheit_temps = list(map(lambda c: (c * 9/5) + 32, celsius_temps))\n",
        "\n",
        "print(fahrenheit_temps)"
      ],
      "metadata": {
        "colab": {
          "base_uri": "https://localhost:8080/"
        },
        "id": "n8vIks5Ezb4E",
        "outputId": "04120660-1913-47c4-f3d3-48502d973fe8"
      },
      "execution_count": 24,
      "outputs": [
        {
          "output_type": "stream",
          "name": "stdout",
          "text": [
            "[32.0, 68.0, 86.0, 98.6, 212.0]\n"
          ]
        }
      ]
    },
    {
      "cell_type": "code",
      "source": [
        "#  Create a Python program that uses `filter()` to remove all the vowels from a given string.\n",
        "\n",
        "def remove_vowels(s):\n",
        "    vowels = \"aeiouAEIOU\"\n",
        "    return \"\".join(filter(lambda ch: ch not in vowels, s))\n",
        "\n",
        "text = \"Hello, how are you?\"\n",
        "result = remove_vowels(text)\n",
        "\n",
        "print(result)"
      ],
      "metadata": {
        "colab": {
          "base_uri": "https://localhost:8080/"
        },
        "id": "OOuvOB6oz9T0",
        "outputId": "88dfddd5-f9de-494c-ff7b-9f92993e4103"
      },
      "execution_count": 25,
      "outputs": [
        {
          "output_type": "stream",
          "name": "stdout",
          "text": [
            "Hll, hw r y?\n"
          ]
        }
      ]
    },
    {
      "cell_type": "code",
      "source": [
        "\"\"\"\n",
        "Imagine an accounting routine used in a book shop. It works on a list with sublists, which look like this:\n",
        " Write a Python program, which returns a list with 2-tuples. Each tuple consists of the order number and the\n",
        "product of the price per item and the quantity. The product should be increased by 10,- € if the value of the\n",
        "order is smaller than 100,00 €.\n",
        " Write a Python program using lambda and map\n",
        "\n",
        "\"\"\"\n",
        "orders = [\n",
        "    [34587, \"Learning python, mark lutz\", 4, 40.95],\n",
        "    [98762, \"Programming python, mark lutz\", 5, 56.80],\n",
        "    [77226, \"head first python, Paul barry\", 3, 32.95],\n",
        "    [88112, \"Einfuhrung in python3, Bernd kelin \", 1, 40.0]\n",
        "]\n",
        "\n",
        "final_orders = list(map(lambda x: (x[0], x[2] * x[3] + (10 if x[2] * x[3] < 100 else 0)), orders))\n",
        "\n",
        "print(final_orders)\n"
      ],
      "metadata": {
        "colab": {
          "base_uri": "https://localhost:8080/"
        },
        "id": "TKKBui7X0bKE",
        "outputId": "ebb3553d-58ca-4843-d66e-7f0f2e5b26a0"
      },
      "execution_count": 27,
      "outputs": [
        {
          "output_type": "stream",
          "name": "stdout",
          "text": [
            "[(34587, 163.8), (98762, 284.0), (77226, 108.85000000000001), (88112, 50.0)]\n"
          ]
        }
      ]
    },
    {
      "cell_type": "markdown",
      "source": [
        "#Theory\n",
        "\n"
      ],
      "metadata": {
        "id": "xBdO_9xK2gRr"
      }
    },
    {
      "cell_type": "code",
      "source": [
        "'''\n",
        "Note: For each theory Question, give at least one example.\n",
        "\n",
        " 1. What is the difference between a function and a method in Python?\n",
        "- Function: A function is defined independently using the def keyword and can be called on any data.\n",
        "- Method: A method is associated with an object and is called using dot notation (.)\n",
        "\n",
        "ex -\n",
        "- Function'''\n",
        "\n",
        "def greet(name):\n",
        "  return f\"Hello, {name}!\"\n",
        "\n",
        "print(greet(\"Alice\"))  # Calling a function\n",
        "\n",
        "#- Method\n",
        "\n",
        "text = \"hello\"\n",
        "print(text.upper())\n",
        "\n",
        "'''\n",
        " 2. Explain the concept of function arguments and parameters in Python.\n",
        " - Parameters: Variables in function definition.\n",
        "\n",
        "- Arguments: Actual values passed when calling the function.\n",
        "\n",
        "eg: '''\n",
        "\n",
        "def add(a, b):\n",
        "  return a + b\n",
        "\n",
        "print(add(5, 3))\n",
        "\n",
        "'''\n",
        " 3. What are the different ways to define and call a function in Python?\n",
        "  - Positional Arguments\n",
        "  - Keyword Arguments\n",
        "  - Default Arguments\n",
        "  - Arbitrary Arguments (*args, **kwargs)\n",
        "\n",
        "  eg:'''\n",
        "\n",
        "def greet(name=\"Guest\"):\n",
        "  return f\"Hello, {name}!\"\n",
        "\n",
        "print(greet())\n",
        "print(greet(\"Alice\"))\n",
        "print(greet(name=\"Bob\"))\n",
        "\n",
        "'''\n",
        " 4. What is the purpose of the `return` statement in a Python function?\n",
        "   - return sends a value back to the caller.\n",
        "\n",
        "   eg: '''\n",
        "def square(n):\n",
        "  return n * n\n",
        "\n",
        "result = square(5)\n",
        "print(result)\n",
        "\n",
        "'''\n",
        " 5. What are iterators in Python and how do they differ from iterables?\n",
        " - Iterable: An object that can return an iterator (list, tuple, set, etc.)\n",
        " - Iterator: An object that can be traversed using next().\n",
        " eg: '''\n",
        "\n",
        "numbers = [1, 2, 3]\n",
        "iterator = iter(numbers)\n",
        "\n",
        "print(next(iterator))\n",
        "print(next(iterator))\n",
        "\n",
        "'''\n",
        " 6. Explain the concept of generators in Python and how they are defined.\n",
        "  - Generators are special functions that yield values instead of returning them all at once.\n",
        "\n",
        "eg: '''\n",
        "\n",
        "def count_up_to(n):\n",
        "  count = 1\n",
        "  while count <= n:\n",
        "    yield count\n",
        "    count += 1\n",
        "\n",
        "gen = count_up_to(3)\n",
        "print(next(gen))\n",
        "print(next(gen))\n",
        "\n",
        "'''\n",
        " 7. What are the advantages of using generators over regular functions?\n",
        "  - Memory Efficiency : Generates values on demand.\n",
        "  - Lazy Evaluation : Doesn't compute all at once.\n",
        "  - Better Performance : Useful for large datasets.\n",
        "\n",
        "  eg: '''\n",
        "\n",
        "def infinite_numbers():\n",
        "  num = 1\n",
        "  while True:\n",
        "    yield num\n",
        "    num += 1\n",
        "\n",
        "gen = infinite_numbers()\n",
        "print(next(gen))\n",
        "print(next(gen))\n",
        "\n",
        "'''\n",
        " 8. What is a lambda function in Python and when is it typically used?\n",
        "- Lambda functions are anonymous, single-expression functions.\n",
        "\n",
        "  eg: '''\n",
        "\n",
        "square = lambda x: x * x\n",
        "print(square(5))\n",
        "\n",
        "'''\n",
        " 9. Explain the purpose and usage of the `map()` function in Python.\n",
        "- map() applies a function to all elements in an iterable.\n",
        "\n",
        "  eg: '''\n",
        "\n",
        "numbers = [1, 2, 3, 4]\n",
        "squared = list(map(lambda x: x**2, numbers))\n",
        "print(squared)\n",
        "\n",
        "\n",
        "# 10. What is the difference between `map()`, `reduce()`, and `filter()` functions in Python?\n",
        "\n",
        "# map(): Applies function to each element.\n",
        "#eg:\n",
        "a = map(lambda x: x*2, [1, 2, 3])\n",
        "print(a)\n",
        "\n",
        "# filter(): Filters elements based on condition.\n",
        "# eg:\n",
        "b =\tfilter(lambda x: x > 2, [1, 2, 3])\n",
        "print(b)\n",
        "\n",
        "#reduce(): Reduces iterable to a single value.\n",
        "#eg:\n",
        "from functools import reduce\n",
        "c = reduce(lambda x, y: x+y, [1, 2, 3])\n",
        "print(c)\n",
        "\n",
        "#11. Using pen & Paper write the internal mechanism for sum operation using  reduce function on this given list:[47,11,42,13];\n"
      ],
      "metadata": {
        "colab": {
          "base_uri": "https://localhost:8080/"
        },
        "id": "r_jRNOxI0plG",
        "outputId": "bdb994c4-7e44-4bfe-c878-c7d4fad648f1"
      },
      "execution_count": 4,
      "outputs": [
        {
          "output_type": "stream",
          "name": "stdout",
          "text": [
            "Hello, Alice!\n",
            "HELLO\n",
            "8\n",
            "Hello, Guest!\n",
            "Hello, Alice!\n",
            "Hello, Bob!\n",
            "25\n",
            "1\n",
            "2\n",
            "1\n",
            "2\n",
            "1\n",
            "2\n",
            "25\n",
            "[1, 4, 9, 16]\n",
            "<map object at 0x7a625a3c52d0>\n",
            "<filter object at 0x7a625a3c4fd0>\n",
            "6\n"
          ]
        }
      ]
    },
    {
      "cell_type": "code",
      "source": [],
      "metadata": {
        "id": "sgxHkEVvZy1Y"
      },
      "execution_count": null,
      "outputs": []
    }
  ]
}